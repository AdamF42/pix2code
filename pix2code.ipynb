{
 "cells": [
  {
   "cell_type": "markdown",
   "metadata": {
    "colab_type": "text",
    "id": "3u8r5EkXgJkC"
   },
   "source": [
    "## Mount Drive"
   ]
  },
  {
   "cell_type": "code",
   "execution_count": null,
   "metadata": {
    "colab": {
     "base_uri": "https://localhost:8080/",
     "height": 125
    },
    "colab_type": "code",
    "executionInfo": {
     "elapsed": 34045,
     "status": "ok",
     "timestamp": 1597414782994,
     "user": {
      "displayName": "Adam Brody",
      "photoUrl": "",
      "userId": "06296373962190723607"
     },
     "user_tz": -120
    },
    "id": "0NhG3ij2O6Sn",
    "outputId": "673932a3-33c0-4898-ad91-9a7d9bd16937"
   },
   "outputs": [],
   "source": [
    "from google.colab import drive\n",
    "drive.mount('/content/gdrive')"
   ]
  },
  {
   "cell_type": "markdown",
   "metadata": {
    "colab_type": "text",
    "id": "ZhH6mtjoXniR"
   },
   "source": [
    "\n",
    "## Get the Code\n",
    "\n",
    "\n"
   ]
  },
  {
   "cell_type": "code",
   "execution_count": null,
   "metadata": {
    "colab": {
     "base_uri": "https://localhost:8080/",
     "height": 52
    },
    "colab_type": "code",
    "executionInfo": {
     "elapsed": 4994,
     "status": "ok",
     "timestamp": 1597400768985,
     "user": {
      "displayName": "Adam Brody",
      "photoUrl": "",
      "userId": "06296373962190723607"
     },
     "user_tz": -120
    },
    "id": "uAJ156mZWxz-",
    "outputId": "37a0ab47-4cf2-4450-ecb0-992491491438"
   },
   "outputs": [],
   "source": [
    "% cd 'gdrive/My Drive/Colab Notebooks'\n",
    "! git clone https://github.com/AdamF42/pix2code.git"
   ]
  },
  {
   "cell_type": "markdown",
   "metadata": {
    "colab_type": "text",
    "id": "HLgfsEnVXz0-"
   },
   "source": [
    "## Install dependencies"
   ]
  },
  {
   "cell_type": "code",
   "execution_count": null,
   "metadata": {
    "colab": {
     "base_uri": "https://localhost:8080/",
     "height": 1000
    },
    "colab_type": "code",
    "executionInfo": {
     "elapsed": 132505,
     "status": "ok",
     "timestamp": 1596465505158,
     "user": {
      "displayName": "Adam Brody",
      "photoUrl": "",
      "userId": "06296373962190723607"
     },
     "user_tz": -120
    },
    "id": "qwWXkWXNXjpI",
    "outputId": "f3fd8263-797b-4a0b-a45e-55156aa48c3f"
   },
   "outputs": [],
   "source": [
    "#!pip install Keras==2.4.3\n",
    "#!pip install numpy==1.19.0\n",
    "#!pip install opencv-python==4.2.0.34\n",
    "#!pip install h5py==2.10.0\n",
    "#!pip install tensorflow-gpu==2.2.0"
   ]
  },
  {
   "cell_type": "markdown",
   "metadata": {
    "colab_type": "text",
    "id": "h8i1R6liec18"
   },
   "source": [
    "## Reassemble and unzip the data\n"
   ]
  },
  {
   "cell_type": "code",
   "execution_count": null,
   "metadata": {
    "colab": {
     "base_uri": "https://localhost:8080/",
     "height": 1000
    },
    "colab_type": "code",
    "executionInfo": {
     "elapsed": 170189,
     "status": "ok",
     "timestamp": 1596466063743,
     "user": {
      "displayName": "Adam Brody",
      "photoUrl": "",
      "userId": "06296373962190723607"
     },
     "user_tz": -120
    },
    "id": "xW248IuAc9WU",
    "outputId": "f4617e36-6260-4086-ce0b-89fcee0c1e69"
   },
   "outputs": [],
   "source": [
    "% cd ../datasets\n",
    "! zip -F pix2code_datasets.zip --out datasets.zip\n",
    "! unzip datasets.zip"
   ]
  },
  {
   "cell_type": "markdown",
   "metadata": {
    "colab_type": "text",
    "id": "HgiGWGoJhDIQ"
   },
   "source": [
    "## Split the data"
   ]
  },
  {
   "cell_type": "code",
   "execution_count": null,
   "metadata": {
    "colab": {
     "base_uri": "https://localhost:8080/",
     "height": 158
    },
    "colab_type": "code",
    "executionInfo": {
     "elapsed": 29715,
     "status": "ok",
     "timestamp": 1597248064561,
     "user": {
      "displayName": "Adam Brody",
      "photoUrl": "",
      "userId": "06296373962190723607"
     },
     "user_tz": -120
    },
    "id": "AbHVO2K0euMV",
    "outputId": "429762ca-a8e9-426a-fd44-f20cb237f3af"
   },
   "outputs": [],
   "source": [
    "%cd ../model\n",
    "# split training set and evaluation set while ensuring no training example in the evaluation set\n",
    "# usage: build_datasets.py <input path> <distribution (default: 6)>\n",
    "!python ./build_datasets.py ../datasets/ios/all_data\n",
    "!python ./build_datasets.py ../datasets/android/all_data\n",
    "!python ./build_datasets.py ../datasets/web/all_data\n",
    "\n",
    "# transform images (normalized pixel values and resized pictures) in training dataset to numpy arrays (smaller files if you need to upload the set to train your model in the cloud)\n",
    "# usage: convert_imgs_to_arrays.py <input path> <output path>\n",
    "!python ./convert_imgs_to_arrays.py ../datasets/ios/training_set ../datasets/ios/training_features\n",
    "!python ./convert_imgs_to_arrays.py ../datasets/android/training_set ../datasets/android/training_features\n",
    "!python ./convert_imgs_to_arrays.py ../datasets/web/training_set ../datasets/web/training_features"
   ]
  },
  {
   "cell_type": "markdown",
   "metadata": {
    "colab_type": "text",
    "id": "n6CD4wT4g_7D"
   },
   "source": [
    "## Train the model"
   ]
  },
  {
   "cell_type": "code",
   "execution_count": null,
   "metadata": {
    "colab": {
     "base_uri": "https://localhost:8080/",
     "height": 52
    },
    "colab_type": "code",
    "executionInfo": {
     "elapsed": 4030,
     "status": "ok",
     "timestamp": 1597248081427,
     "user": {
      "displayName": "Adam Brody",
      "photoUrl": "",
      "userId": "06296373962190723607"
     },
     "user_tz": -120
    },
    "id": "9Lz6PVOSjL8q",
    "outputId": "b564f849-e9e8-421c-8039-12013b2a488c"
   },
   "outputs": [],
   "source": [
    "%cd ../\n",
    "!mkdir bin"
   ]
  },
  {
   "cell_type": "code",
   "execution_count": null,
   "metadata": {
    "colab": {
     "base_uri": "https://localhost:8080/",
     "height": 34
    },
    "colab_type": "code",
    "executionInfo": {
     "elapsed": 1362,
     "status": "ok",
     "timestamp": 1597414788570,
     "user": {
      "displayName": "Adam Brody",
      "photoUrl": "",
      "userId": "06296373962190723607"
     },
     "user_tz": -120
    },
    "id": "bpD9DHXElD0R",
    "outputId": "f7f50138-9a2c-4cda-d055-32db22a5493b"
   },
   "outputs": [],
   "source": [
    "%cd /content/gdrive/My Drive/Colab Notebooks/pix2code/model\n"
   ]
  },
  {
   "cell_type": "code",
   "execution_count": null,
   "metadata": {
    "colab": {
     "base_uri": "https://localhost:8080/",
     "height": 125
    },
    "colab_type": "code",
    "executionInfo": {
     "elapsed": 5226,
     "status": "ok",
     "timestamp": 1597415194603,
     "user": {
      "displayName": "Adam Brody",
      "photoUrl": "",
      "userId": "06296373962190723607"
     },
     "user_tz": -120
    },
    "id": "-B8T7PX7kbZF",
    "outputId": "91d1b1e7-faf1-4b16-85ee-648c186db218"
   },
   "outputs": [],
   "source": [
    "# provide input path to training data and output path to save trained model and metadata\n",
    "# usage: train.py <input path> <output path> <is memory intensive (default: 0)> <pretrained weights (optional)>\n",
    "#!python ./train.py ../datasets/web/training_set ../bin\n",
    "\n",
    "# train on images pre-processed as arrays\n",
    "# ./train.py ../datasets/web/training_features ../bin\n",
    "\n",
    "# train with generator to avoid having to fit all the data in memory (RECOMMENDED)\n",
    "# !python ./train.py ../datasets/web/training_features ../bin 1\n",
    "\n",
    "# train on top of pretrained weights\n",
    "# ./train.py ../datasets/web/training_features ../bin 1 ../bin/pix2code.h5"
   ]
  },
  {
   "cell_type": "markdown",
   "metadata": {},
   "source": [
    "## Training"
   ]
  },
  {
   "cell_type": "code",
   "execution_count": null,
   "metadata": {},
   "outputs": [],
   "source": [
    "!python ./train.py ../datasets/web/training_features ../bin base 1"
   ]
  },
  {
   "cell_type": "code",
   "execution_count": null,
   "metadata": {},
   "outputs": [],
   "source": [
    "!python ./train.py ../datasets/web/training_features ../bin bilstm 1"
   ]
  },
  {
   "cell_type": "code",
   "execution_count": null,
   "metadata": {},
   "outputs": [],
   "source": [
    "!python ./train.py ../datasets/web/training_features ../bin gru 1"
   ]
  },
  {
   "cell_type": "code",
   "execution_count": null,
   "metadata": {
    "colab": {},
    "colab_type": "code",
    "id": "3lNpd2jhkuXD"
   },
   "outputs": [],
   "source": [
    "!pip install -q pyyaml h5py  # Required to save models in HDF5 format"
   ]
  },
  {
   "cell_type": "code",
   "execution_count": null,
   "metadata": {
    "colab": {},
    "colab_type": "code",
    "id": "X7neLPTaBAXx"
   },
   "outputs": [],
   "source": [
    "model.save_weights(\"model.h5\")"
   ]
  }
 ],
 "metadata": {
  "accelerator": "GPU",
  "colab": {
   "authorship_tag": "ABX9TyMv24d/2oEmpSh9d+XUlIwN",
   "collapsed_sections": [
    "3u8r5EkXgJkC",
    "ZhH6mtjoXniR",
    "HLgfsEnVXz0-",
    "h8i1R6liec18"
   ],
   "name": "pix2code.ipynb",
   "provenance": [
    {
     "file_id": "1m5g81aILgTVaYRoqCR9G50jlD3XEbSsr",
     "timestamp": 1593946409539
    }
   ],
   "toc_visible": true
  },
  "kernelspec": {
   "display_name": "Python 3",
   "language": "python",
   "name": "python3"
  },
  "language_info": {
   "codemirror_mode": {
    "name": "ipython",
    "version": 3
   },
   "file_extension": ".py",
   "mimetype": "text/x-python",
   "name": "python",
   "nbconvert_exporter": "python",
   "pygments_lexer": "ipython3",
   "version": "3.6.7"
  }
 },
 "nbformat": 4,
 "nbformat_minor": 1
}
